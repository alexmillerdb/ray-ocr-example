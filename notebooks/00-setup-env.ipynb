{
 "cells": [
  {
   "cell_type": "markdown",
   "metadata": {},
   "source": [
    "Setup environment by selecting `catalog`, `schema`, and `volume`"
   ]
  },
  {
   "cell_type": "code",
   "execution_count": null,
   "metadata": {},
   "outputs": [],
   "source": [
    "UC_CATALOG = \"alex_m\"\n",
    "UC_SCHEMA = \"ocr\"\n",
    "UC_VOLUME = \"ocr_data\"\n",
    "RAW_DATA_PATH = f\"/Volumes/{UC_CATALOG}/{UC_SCHEMA}/{UC_VOLUME}/raw_data\"\n",
    "\n",
    "spark.sql(f\"CREATE CATALOG IF NOT EXISTS {UC_CATALOG}\")\n",
    "spark.sql(f\"CREATE SCHEMA IF NOT EXISTS {UC_CATALOG}.{UC_SCHEMA}\")\n",
    "spark.sql(f\"CREATE VOLUME IF NOT EXISTS {UC_CATALOG}.{UC_SCHEMA}.{UC_VOLUME}\")\n",
    "\n",
    "dbutils.fs.mkdirs(RAW_DATA_PATH)\n",
    "\n",
    "print(f\"UC catalog: {UC_CATALOG}\")\n",
    "print(f\"UC schema: {UC_SCHEMA}\")\n",
    "print(f\"UC volume: {UC_VOLUME}\")\n",
    "print(f\"Raw data path: {RAW_DATA_PATH}\")"
   ]
  }
 ],
 "metadata": {
  "language_info": {
   "name": "python"
  }
 },
 "nbformat": 4,
 "nbformat_minor": 2
}
